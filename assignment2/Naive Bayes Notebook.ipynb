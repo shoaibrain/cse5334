{
 "cells": [
  {
   "cell_type": "code",
   "execution_count": 4,
   "id": "7e82d33c",
   "metadata": {},
   "outputs": [],
   "source": [
    "#basic math libraries\n",
    "import json\n",
    "import math as math\n",
    "import pandas as pd\n",
    "import numpy as np\n",
    "#libraries for plotting and graphing \n",
    "import matplotlib.pyplot as plt\n",
    "from sklearn.model_selection import train_test_split\n",
    "from sklearn.model_selection import train_test_split\n",
    "#language toolkits\n",
    "import nltk\n",
    "from wordcloud import WordCloud\n",
    "from nltk.tokenize import word_tokenize"
   ]
  },
  {
   "cell_type": "code",
   "execution_count": 2,
   "id": "d358f14d",
   "metadata": {},
   "outputs": [],
   "source": [
    "#get words after filtering stop words\n",
    "def getFilteredWord(line):\n",
    "    return [word for word in word_tokenize(line) if not word in stop_words]\n",
    "# build a list for word vocabulary\n",
    "def build_vocab_list(train_dataset):\n",
    "    list_vocab = []\n",
    "    for record in train_dataset:\n",
    "        list_vocab.extend(get_filtered_words(record['headline']))\n",
    "    return list_vocab\n",
    "#map words to trainig to frequency of word occurance\n",
    "def build_doc_freq_dict(train_dataset,categories):\n",
    "    for record in train_dataset:\n",
    "        for word in get_filtered_words(record['headline']):\n",
    "            expectDict[record['category']][word]+=1\n",
    "    return expectDict"
   ]
  },
  {
   "cell_type": "code",
   "execution_count": 4,
   "id": "21ce3c80",
   "metadata": {},
   "outputs": [],
   "source": [
    "# seperate dataset by class \n",
    "def getDataClassGrp(dataset):\n",
    "    seperated_category_dict = {category:[] for category in categories}\n",
    "    for record in dataset:\n",
    "        seperated_category_dict[record['category']].append(record)\n",
    "    return seperated_category_dict\n",
    "#get the predicted class given text belong to\n",
    "def getClassPredicted(cgroup_classes_dict,train_dataset):\n",
    "    prolly = 0\n",
    "    for category in categories:\n",
    "        if prob_of_category_contains_headline > greatest_prob:\n",
    "    return predicted_category\n",
    "def getAccuracy(dataset,categories,word_frequency_dict,group_classes_dict):\n",
    "    correct_predicted = 0\n",
    "    for record in dataset: \n",
    "        predicted_category = get_predicted_class(categories,record['headline'],word_frequency_dict,group_classes_dict,dataset)\n",
    "        if predicted_category == record['category']:\n",
    "            correct_predicted+=1\n",
    "    return correct_predicted/len(dataset)"
   ]
  },
  {
   "cell_type": "markdown",
   "id": "24822cfd",
   "metadata": {},
   "source": [
    "## Read dataSet\n",
    "Here' we will read in the dataset to see what it looks like"
   ]
  },
  {
   "cell_type": "code",
   "execution_count": 10,
   "id": "b571d346",
   "metadata": {},
   "outputs": [
    {
     "data": {
      "text/html": [
       "<div>\n",
       "<style scoped>\n",
       "    .dataframe tbody tr th:only-of-type {\n",
       "        vertical-align: middle;\n",
       "    }\n",
       "\n",
       "    .dataframe tbody tr th {\n",
       "        vertical-align: top;\n",
       "    }\n",
       "\n",
       "    .dataframe thead th {\n",
       "        text-align: right;\n",
       "    }\n",
       "</style>\n",
       "<table border=\"1\" class=\"dataframe\">\n",
       "  <thead>\n",
       "    <tr style=\"text-align: right;\">\n",
       "      <th></th>\n",
       "      <th>category</th>\n",
       "      <th>headline</th>\n",
       "      <th>authors</th>\n",
       "      <th>link</th>\n",
       "      <th>short_description</th>\n",
       "      <th>date</th>\n",
       "    </tr>\n",
       "  </thead>\n",
       "  <tbody>\n",
       "    <tr>\n",
       "      <th>0</th>\n",
       "      <td>CRIME</td>\n",
       "      <td>There Were 2 Mass Shootings In Texas Last Week...</td>\n",
       "      <td>Melissa Jeltsen</td>\n",
       "      <td>https://www.huffingtonpost.com/entry/texas-ama...</td>\n",
       "      <td>She left her husband. He killed their children...</td>\n",
       "      <td>2018-05-26</td>\n",
       "    </tr>\n",
       "    <tr>\n",
       "      <th>1</th>\n",
       "      <td>ENTERTAINMENT</td>\n",
       "      <td>Will Smith Joins Diplo And Nicky Jam For The 2...</td>\n",
       "      <td>Andy McDonald</td>\n",
       "      <td>https://www.huffingtonpost.com/entry/will-smit...</td>\n",
       "      <td>Of course it has a song.</td>\n",
       "      <td>2018-05-26</td>\n",
       "    </tr>\n",
       "    <tr>\n",
       "      <th>2</th>\n",
       "      <td>ENTERTAINMENT</td>\n",
       "      <td>Hugh Grant Marries For The First Time At Age 57</td>\n",
       "      <td>Ron Dicker</td>\n",
       "      <td>https://www.huffingtonpost.com/entry/hugh-gran...</td>\n",
       "      <td>The actor and his longtime girlfriend Anna Ebe...</td>\n",
       "      <td>2018-05-26</td>\n",
       "    </tr>\n",
       "    <tr>\n",
       "      <th>3</th>\n",
       "      <td>ENTERTAINMENT</td>\n",
       "      <td>Jim Carrey Blasts 'Castrato' Adam Schiff And D...</td>\n",
       "      <td>Ron Dicker</td>\n",
       "      <td>https://www.huffingtonpost.com/entry/jim-carre...</td>\n",
       "      <td>The actor gives Dems an ass-kicking for not fi...</td>\n",
       "      <td>2018-05-26</td>\n",
       "    </tr>\n",
       "    <tr>\n",
       "      <th>4</th>\n",
       "      <td>ENTERTAINMENT</td>\n",
       "      <td>Julianna Margulies Uses Donald Trump Poop Bags...</td>\n",
       "      <td>Ron Dicker</td>\n",
       "      <td>https://www.huffingtonpost.com/entry/julianna-...</td>\n",
       "      <td>The \"Dietland\" actress said using the bags is ...</td>\n",
       "      <td>2018-05-26</td>\n",
       "    </tr>\n",
       "  </tbody>\n",
       "</table>\n",
       "</div>"
      ],
      "text/plain": [
       "        category                                           headline  \\\n",
       "0          CRIME  There Were 2 Mass Shootings In Texas Last Week...   \n",
       "1  ENTERTAINMENT  Will Smith Joins Diplo And Nicky Jam For The 2...   \n",
       "2  ENTERTAINMENT    Hugh Grant Marries For The First Time At Age 57   \n",
       "3  ENTERTAINMENT  Jim Carrey Blasts 'Castrato' Adam Schiff And D...   \n",
       "4  ENTERTAINMENT  Julianna Margulies Uses Donald Trump Poop Bags...   \n",
       "\n",
       "           authors                                               link  \\\n",
       "0  Melissa Jeltsen  https://www.huffingtonpost.com/entry/texas-ama...   \n",
       "1    Andy McDonald  https://www.huffingtonpost.com/entry/will-smit...   \n",
       "2       Ron Dicker  https://www.huffingtonpost.com/entry/hugh-gran...   \n",
       "3       Ron Dicker  https://www.huffingtonpost.com/entry/jim-carre...   \n",
       "4       Ron Dicker  https://www.huffingtonpost.com/entry/julianna-...   \n",
       "\n",
       "                                   short_description       date  \n",
       "0  She left her husband. He killed their children... 2018-05-26  \n",
       "1                           Of course it has a song. 2018-05-26  \n",
       "2  The actor and his longtime girlfriend Anna Ebe... 2018-05-26  \n",
       "3  The actor gives Dems an ass-kicking for not fi... 2018-05-26  \n",
       "4  The \"Dietland\" actress said using the bags is ... 2018-05-26  "
      ]
     },
     "execution_count": 10,
     "metadata": {},
     "output_type": "execute_result"
    }
   ],
   "source": [
    "dataFrame = pandas.read_json('data/newsCategory.json')\n",
    "dataFrame.head(5)"
   ]
  },
  {
   "cell_type": "markdown",
   "id": "d1adb65a",
   "metadata": {},
   "source": [
    "### Classes available for classificaiton\n",
    "There are different classes available in the dataset"
   ]
  },
  {
   "cell_type": "code",
   "execution_count": 11,
   "id": "d1da62e4",
   "metadata": {},
   "outputs": [
    {
     "data": {
      "text/plain": [
       "array(['CRIME', 'ENTERTAINMENT', 'WORLD NEWS', 'IMPACT', 'POLITICS',\n",
       "       'WEIRD NEWS', 'BLACK VOICES', 'WOMEN', 'COMEDY', 'QUEER VOICES',\n",
       "       'SPORTS', 'BUSINESS', 'TRAVEL', 'MEDIA', 'TECH', 'RELIGION',\n",
       "       'SCIENCE', 'LATINO VOICES', 'EDUCATION', 'COLLEGE', 'PARENTS',\n",
       "       'ARTS & CULTURE', 'STYLE', 'GREEN', 'TASTE', 'HEALTHY LIVING',\n",
       "       'THE WORLDPOST', 'GOOD NEWS', 'WORLDPOST', 'FIFTY', 'ARTS',\n",
       "       'WELLNESS', 'PARENTING', 'HOME & LIVING', 'STYLE & BEAUTY',\n",
       "       'DIVORCE', 'WEDDINGS', 'FOOD & DRINK', 'MONEY', 'ENVIRONMENT',\n",
       "       'CULTURE & ARTS'], dtype=object)"
      ]
     },
     "execution_count": 11,
     "metadata": {},
     "output_type": "execute_result"
    }
   ],
   "source": [
    "dataFrame.category.unique().all()"
   ]
  },
  {
   "cell_type": "code",
   "execution_count": 12,
   "id": "1ba2c6d1",
   "metadata": {},
   "outputs": [
    {
     "name": "stdout",
     "output_type": "stream",
     "text": [
      " Number of records in the dataset: 200853\n",
      " Number of different categories in the dataset: 38\n"
     ]
    }
   ],
   "source": [
    "# data preprocess by loading the original data into a dictionary\n",
    "#and process it through forwward pipeline\n",
    "\n",
    "dataset,categories = [],[]\n",
    "stop_words= set(stopwords.words('english'))\n",
    "with open('data/newsCategory.json') as data: #safe open\n",
    "    for line_num,file_text in enumerate(data,start=0):\n",
    "        file_text = file_text.replace('\"category\": \"CULTURE & ARTS\",','\"category\": \"ARTS & CULTURE\",',1).replace('\"category\": \"WORLDPOST\",','\"category\": \"THE WORLDPOST\",',1).replace('\"category\": \"PARENTING\",','\"category\": \"PARENTS\",',1)  \n",
    "        record = json.loads(file_text)\n",
    "        if dataset[line_num]['category'] not in categories:\n",
    "            categories.append(dataset[line_num]['category'])\n",
    "no_of_records = len(dataset)\n"
   ]
  },
  {
   "cell_type": "code",
   "execution_count": 13,
   "id": "a407ff05",
   "metadata": {
    "scrolled": true
   },
   "outputs": [
    {
     "data": {
      "text/html": [
       "<div>\n",
       "<style scoped>\n",
       "    .dataframe tbody tr th:only-of-type {\n",
       "        vertical-align: middle;\n",
       "    }\n",
       "\n",
       "    .dataframe tbody tr th {\n",
       "        vertical-align: top;\n",
       "    }\n",
       "\n",
       "    .dataframe thead th {\n",
       "        text-align: right;\n",
       "    }\n",
       "</style>\n",
       "<table border=\"1\" class=\"dataframe\">\n",
       "  <thead>\n",
       "    <tr style=\"text-align: right;\">\n",
       "      <th></th>\n",
       "      <th>category</th>\n",
       "      <th>headline</th>\n",
       "    </tr>\n",
       "  </thead>\n",
       "  <tbody>\n",
       "    <tr>\n",
       "      <th>0</th>\n",
       "      <td>CRIME</td>\n",
       "      <td>there were 2 mass shootings in texas last week...</td>\n",
       "    </tr>\n",
       "    <tr>\n",
       "      <th>1</th>\n",
       "      <td>ENTERTAINMENT</td>\n",
       "      <td>will smith joins diplo and nicky jam for the 2...</td>\n",
       "    </tr>\n",
       "    <tr>\n",
       "      <th>2</th>\n",
       "      <td>ENTERTAINMENT</td>\n",
       "      <td>hugh grant marries for the first time at age 57</td>\n",
       "    </tr>\n",
       "    <tr>\n",
       "      <th>3</th>\n",
       "      <td>ENTERTAINMENT</td>\n",
       "      <td>jim carrey blasts 'castrato' adam schiff and d...</td>\n",
       "    </tr>\n",
       "    <tr>\n",
       "      <th>4</th>\n",
       "      <td>ENTERTAINMENT</td>\n",
       "      <td>julianna margulies uses donald trump poop bags...</td>\n",
       "    </tr>\n",
       "  </tbody>\n",
       "</table>\n",
       "</div>"
      ],
      "text/plain": [
       "        category                                           headline\n",
       "0          CRIME  there were 2 mass shootings in texas last week...\n",
       "1  ENTERTAINMENT  will smith joins diplo and nicky jam for the 2...\n",
       "2  ENTERTAINMENT    hugh grant marries for the first time at age 57\n",
       "3  ENTERTAINMENT  jim carrey blasts 'castrato' adam schiff and d...\n",
       "4  ENTERTAINMENT  julianna margulies uses donald trump poop bags..."
      ]
     },
     "execution_count": 13,
     "metadata": {},
     "output_type": "execute_result"
    }
   ],
   "source": [
    "\n",
    "dataFrame2 = pd.DataFrame(dataset)\n",
    "dataFrame2.head()"
   ]
  },
  {
   "cell_type": "markdown",
   "id": "243057ee",
   "metadata": {},
   "source": [
    "### Plotting and visualizing "
   ]
  },
  {
   "cell_type": "code",
   "execution_count": 14,
   "id": "6b6523c6",
   "metadata": {},
   "outputs": [
    {
     "data": {
      "image/png": "[encoded data removed]",
      "text/plain": [
       "<Figure size 720x720 with 1 Axes>"
      ]
     },
     "metadata": {
      "needs_background": "light"
     },
     "output_type": "display_data"
    }
   ],
   "source": [
    "fig.set_figheight(10)\n",
    "fig.set_figwidth(10)\n",
    "fig, ax = plt.subplots()\n",
    "ax.barh(df2.loc[:,'category'].value_counts().keys(), alpha=0.5)\n",
    "ax.set_ylabel(\"News Categories\")\n",
    "plt.show()"
   ]
  },
  {
   "cell_type": "code",
   "execution_count": 15,
   "id": "ceca1ff3",
   "metadata": {},
   "outputs": [
    {
     "name": "stdout",
     "output_type": "stream",
     "text": [
      "Iteration:1 Accuracy of the Naive Baye's Classifier over test dataset is 42.5%\n",
      "Iteration:2 Accuracy of the Naive Baye's Classifier over test dataset is 42.64%\n",
      "Iteration:3 Accuracy of the Naive Baye's Classifier over test dataset is 42.4%\n",
      "Iteration:4 Accuracy of the Naive Baye's Classifier over test dataset is 42.43%\n",
      "Iteration:5 Accuracy of the Naive Baye's Classifier over test dataset is 42.52%\n"
     ]
    },
    {
     "data": {
      "image/png": "[encoded data removed]",
      "text/plain": [
       "<Figure size 360x360 with 1 Axes>"
      ]
     },
     "metadata": {
      "needs_background": "light"
     },
     "output_type": "display_data"
    },
    {
     "name": "stdout",
     "output_type": "stream",
     "text": [
      "Average Accuracy of the Naive Baye's Classifier over test dataset is 42.5%\n"
     ]
    }
   ],
   "source": [
    "#Divide the dataset into train and test data\n",
    "k_fold =5\n",
    "accuracy_list = []\n",
    "for i in range(k_fold):\n",
    "    word_frequency_dict = build_doc_freq_dict(train_dataset,categories)\n",
    "    test_accuracy = get_accuracy(test_dataset,categories,word_frequency_dict,group_classes_dict\n",
    "fig2, ax2 = plt.subplots("
   ]
  },
  {
   "cell_type": "code",
   "execution_count": null,
   "id": "7797dccd",
   "metadata": {},
   "outputs": [],
   "source": []
  }
 ],
 "metadata": {
  "kernelspec": {
   "display_name": "Python 3 (ipykernel)",
   "language": "python",
   "name": "python3"
  },
  "language_info": {
   "codemirror_mode": {
    "name": "ipython",
    "version": 3
   },
   "file_extension": ".py",
   "mimetype": "text/x-python",
   "name": "python",
   "nbconvert_exporter": "python",
   "pygments_lexer": "ipython3",
   "version": "3.9.7"
  }
 },
 "nbformat": 4,
 "nbformat_minor": 5
}
