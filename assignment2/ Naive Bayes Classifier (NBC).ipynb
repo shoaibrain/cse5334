{
 "cells": [
  {
   "cell_type": "markdown",
   "id": "7d549c27",
   "metadata": {},
   "source": [
    "###  Naive Bayes Classifier (NBC)\n",
    "In this notebook, we will implement  Naive Bayes Classifier from scratch for a categorical data\n"
   ]
  }
 ],
 "metadata": {
  "kernelspec": {
   "display_name": "Python 3 (ipykernel)",
   "language": "python",
   "name": "python3"
  },
  "language_info": {
   "codemirror_mode": {
    "name": "ipython",
    "version": 3
   },
   "file_extension": ".py",
   "mimetype": "text/x-python",
   "name": "python",
   "nbconvert_exporter": "python",
   "pygments_lexer": "ipython3",
   "version": "3.9.15"
  }
 },
 "nbformat": 4,
 "nbformat_minor": 5
}
